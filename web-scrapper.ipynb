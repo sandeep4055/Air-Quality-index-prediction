{
 "cells": [
  {
   "cell_type": "code",
   "execution_count": 1,
   "metadata": {},
   "outputs": [],
   "source": [
    "import os\n",
    "import time\n",
    "import requests\n",
    "import sys        "
   ]
  },
  {
   "cell_type": "code",
   "execution_count": 2,
   "metadata": {},
   "outputs": [],
   "source": [
    "def retrieve_html():\n",
    "    #we take data from year 2013 to 2018 so we are iterating\n",
    "    for year in range(2013,2019):\n",
    "        #Then we iterate over months\n",
    "        for month in range(1,13):\n",
    "            if(month<10):\n",
    "                url='http://en.tutiempo.net/climate/0{}-{}/ws-421820.html'.format(month,year)\n",
    "            else:\n",
    "                url='http://en.tutiempo.net/climate/{}-{}/ws-421820.html'.format(month,year)\n",
    "            #the requests package goes to the url and collects the data\n",
    "            texts=requests.get(url)\n",
    "            #then encode the data collected\n",
    "            text_utf=texts.text.encode('utf=8')\n",
    "            #Create the directory & stores in file\n",
    "            if not os.path.exists(\"Data/Html_Data/{}\".format(year)):\n",
    "                os.makedirs(\"Data/Html_Data/{}\".format(year))\n",
    "            with open(\"Data/Html_Data/{}/{}.html\".format(year,month),\"wb\") as output:\n",
    "                output.write(text_utf)\n",
    "            #gets out of the file\n",
    "        sys.stdout.flush()"
   ]
  },
  {
   "cell_type": "code",
   "execution_count": 3,
   "metadata": {},
   "outputs": [
    {
     "name": "stdout",
     "output_type": "stream",
     "text": [
      "Time taken 168.99776339530945\n"
     ]
    }
   ],
   "source": [
    "if __name__==\"__main__\":\n",
    "    start_time=time.time()\n",
    "    retrieve_html()\n",
    "    stop_time=time.time()\n",
    "    print(\"Time taken {}\".format(stop_time-start_time))"
   ]
  },
  {
   "cell_type": "code",
   "execution_count": null,
   "metadata": {},
   "outputs": [],
   "source": []
  }
 ],
 "metadata": {
  "kernelspec": {
   "display_name": "Python 3",
   "language": "python",
   "name": "python3"
  },
  "language_info": {
   "codemirror_mode": {
    "name": "ipython",
    "version": 3
   },
   "file_extension": ".py",
   "mimetype": "text/x-python",
   "name": "python",
   "nbconvert_exporter": "python",
   "pygments_lexer": "ipython3",
   "version": "3.8.5"
  }
 },
 "nbformat": 4,
 "nbformat_minor": 4
}
